{
 "cells": [
  {
   "cell_type": "code",
   "execution_count": 5,
   "metadata": {},
   "outputs": [],
   "source": [
    "from tkinter import *\n",
    "from PIL import Image\n",
    "import io\n",
    "import numpy as np\n",
    "import matplotlib.pyplot as plt\n",
    "from keras.models import load_model\n",
    "import cv2"
   ]
  },
  {
   "cell_type": "code",
   "execution_count": 6,
   "metadata": {},
   "outputs": [],
   "source": [
    "class DigitsClassifier(Frame):\n",
    "    \"\"\"Handwritten digits classifier class\"\"\"\n",
    "def __init__(self, parent):\n",
    "        Frame.__init__(self, parent)\n",
    "        self.parent = parent\n",
    "        self.color = \"black\"\n",
    "        self.brush_size = 12\n",
    "        self.setUI()\n",
    "def set_color(self, new_color):\n",
    "        \"\"\"Additional brush color change\"\"\"\n",
    "        self.color = new_color\n",
    "def set_brush_size(self, new_size):\n",
    "        \"\"\"Changes brush size for testing different lines width\"\"\"\n",
    "        self.brush_size = new_size\n",
    "def draw(self, event):\n",
    "        \"\"\"Method to draw\"\"\"\n",
    "        self.canv.create_oval(event.x - self.brush_size,\n",
    "                              event.y - self.brush_size,\n",
    "                              event.x + self.brush_size,\n",
    "                              event.y + self.brush_size,\n",
    "                              fill=self.color, outline=self.color)"
   ]
  },
  {
   "cell_type": "code",
   "execution_count": null,
   "metadata": {},
   "outputs": [],
   "source": [
    "from keras.models import load_model\n",
    "model = load_model('mnist.h5')\n",
    "def save(self):\n",
    "        \"\"\"Save the current canvas state as the postscript\n",
    "        uses classify method and shows the result\"\"\"\n",
    "        self.canv.update()\n",
    "        ps = self.canv.postscript(colormode='mono')\n",
    "        img = Image.open(io.BytesIO(ps.encode('utf-8')))\n",
    "        img.save('result.png')\n",
    "        a = DigitsClassifier.classify()\n",
    "        print(a)\n",
    "        self.show_digit(a)"
   ]
  }
 ],
 "metadata": {
  "kernelspec": {
   "display_name": "Python 3",
   "language": "python",
   "name": "python3"
  },
  "language_info": {
   "codemirror_mode": {
    "name": "ipython",
    "version": 3
   },
   "file_extension": ".py",
   "mimetype": "text/x-python",
   "name": "python",
   "nbconvert_exporter": "python",
   "pygments_lexer": "ipython3",
   "version": "3.8.5"
  }
 },
 "nbformat": 4,
 "nbformat_minor": 4
}
